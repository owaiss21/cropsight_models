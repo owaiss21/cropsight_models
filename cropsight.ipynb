{
 "cells": [
  {
   "cell_type": "code",
   "execution_count": 1,
   "metadata": {},
   "outputs": [],
   "source": [
    "import torch\n",
    "from torchvision import datasets, transforms, models\n",
    "from torch.utils.data import DataLoader, random_split, ConcatDataset, Dataset\n",
    "from torchvision.models import resnet50, ResNet50_Weights\n",
    "import torch.nn as nn\n",
    "import torch.optim as optim\n",
    "import matplotlib.pyplot as plt\n",
    "import numpy as np\n",
    "from torch.optim import lr_scheduler\n",
    "import time\n",
    "from PIL import Image\n",
    "from sklearn.metrics import precision_score, recall_score, confusion_matrix\n",
    "import seaborn as sns\n",
    "import os\n",
    "from collections import defaultdict\n",
    "import copy\n",
    "import random"
   ]
  },
  {
   "cell_type": "code",
   "execution_count": 2,
   "metadata": {},
   "outputs": [],
   "source": [
    "device = torch.device(\"cuda\" if torch.cuda.is_available() else \"cpu\")"
   ]
  },
  {
   "cell_type": "code",
   "execution_count": 3,
   "metadata": {},
   "outputs": [],
   "source": [
    "IMAGE_SIZE = 224\n",
    "BATCH_SIZE = 32\n",
    "EPOCHS = 30"
   ]
  },
  {
   "cell_type": "code",
   "execution_count": 4,
   "metadata": {},
   "outputs": [],
   "source": [
    "class TransformDataset(Dataset):\n",
    "    def __init__(self, dataset, transform=None):\n",
    "        self.dataset = dataset\n",
    "        self.transform = transform\n",
    "\n",
    "    def __len__(self):\n",
    "        return len(self.dataset)\n",
    "\n",
    "    def __getitem__(self, idx):\n",
    "        image, label = self.dataset[idx]\n",
    "        if self.transform:\n",
    "            image = self.transform(image)\n",
    "        return image, label"
   ]
  },
  {
   "cell_type": "code",
   "execution_count": 5,
   "metadata": {},
   "outputs": [],
   "source": [
    "class CNNModel(nn.Module):\n",
    "    def __init__(self, n_classes):\n",
    "        super(CNNModel, self).__init__()\n",
    "        self.conv_layers = nn.Sequential(\n",
    "            nn.Conv2d(3, 32, kernel_size=3, padding=1),\n",
    "            nn.BatchNorm2d(32),\n",
    "            nn.ReLU(),\n",
    "            nn.MaxPool2d(2),\n",
    "\n",
    "            nn.Conv2d(32, 64, kernel_size=3, padding=1),\n",
    "            nn.BatchNorm2d(64),\n",
    "            nn.ReLU(),\n",
    "            nn.MaxPool2d(2),\n",
    "\n",
    "            nn.Conv2d(64, 64, kernel_size=3, padding=1),\n",
    "            nn.BatchNorm2d(64),\n",
    "            nn.ReLU(),\n",
    "            nn.MaxPool2d(2),\n",
    "\n",
    "            nn.Conv2d(64, 64, kernel_size=3, padding=1),\n",
    "            nn.BatchNorm2d(64),\n",
    "            nn.ReLU(),\n",
    "            nn.MaxPool2d(2)\n",
    "        )\n",
    "        self.fc_layers = nn.Sequential(\n",
    "            nn.Flatten(),\n",
    "            nn.Linear(64 * 14 * 14, 64),\n",
    "            nn.BatchNorm1d(64),\n",
    "            nn.ReLU(),\n",
    "            nn.Dropout(0.2),\n",
    "            nn.Linear(64, n_classes)\n",
    "        )\n",
    "\n",
    "    def forward(self, x):\n",
    "        x = self.conv_layers(x)\n",
    "        x = self.fc_layers(x)\n",
    "        return x"
   ]
  },
  {
   "cell_type": "code",
   "execution_count": 6,
   "metadata": {},
   "outputs": [],
   "source": [
    "def get_model(model_type='custom_cnn', class_names=[]):\n",
    "    n_classes = len(class_names)\n",
    "    if model_type == 'custom_cnn':\n",
    "        return CNNModel(n_classes)"
   ]
  },
  {
   "cell_type": "code",
   "execution_count": 29,
   "metadata": {},
   "outputs": [],
   "source": [
    "\n",
    "\n",
    "def load_datasets(dataset_dirs):\n",
    "    datasets_list = []\n",
    "    class_names = []\n",
    "    plant_image_counts = defaultdict(lambda: {'total': 0, 'train': 0, 'val': 0, 'test': 0})\n",
    "\n",
    "    for dataset_dir in dataset_dirs:\n",
    "        plant_name = os.path.basename(dataset_dir)\n",
    "        dataset = datasets.ImageFolder(root=dataset_dir)\n",
    "\n",
    "        dataset.classes = [f\"{plant_name}_{cls}\" for cls in dataset.classes]\n",
    "        class_names.extend(dataset.classes)\n",
    "\n",
    "        plant_image_counts[plant_name]['total'] = len(dataset)\n",
    "        datasets_list.append(dataset)\n",
    "\n",
    "    combined_dataset = ConcatDataset(datasets_list)\n",
    "\n",
    "\n",
    "    dataset_offsets = []\n",
    "    offset = 0\n",
    "    for ds in datasets_list:\n",
    "        dataset_offsets.append((offset, offset + len(ds), ds))\n",
    "        offset += len(ds)\n",
    "\n",
    "    class_to_indices = defaultdict(list)\n",
    "    for idx in range(len(combined_dataset)):\n",
    "        for start, end, ds in dataset_offsets:\n",
    "            if start <= idx < end:\n",
    "                image, label = ds[idx - start]\n",
    "                class_name = ds.classes[label]\n",
    "                class_to_indices[class_name].append(idx)\n",
    "                break\n",
    "\n",
    "    train_indices, val_indices, test_indices = [], [], []\n",
    "\n",
    "    for indices in class_to_indices.values():\n",
    "        random.shuffle(indices)\n",
    "        n = len(indices)\n",
    "        train_cutoff = int(0.7 * n)\n",
    "        val_cutoff = int(0.85 * n)\n",
    "\n",
    "        train_indices.extend(indices[:train_cutoff])\n",
    "        val_indices.extend(indices[train_cutoff:val_cutoff])\n",
    "        test_indices.extend(indices[val_cutoff:])\n",
    "\n",
    "    train_dataset = TransformDataset(torch.utils.data.Subset(combined_dataset, train_indices), transform=transforms.Compose([\n",
    "        transforms.Resize((224, 224)),\n",
    "        transforms.RandomHorizontalFlip(),\n",
    "        transforms.RandomRotation(35),\n",
    "        transforms.ColorJitter(brightness=0.1, contrast=0.1, saturation=0.1, hue=0.05),\n",
    "        transforms.ToTensor(),\n",
    "        transforms.Normalize([0.485, 0.456, 0.406], [0.229, 0.224, 0.225])\n",
    "    ]))\n",
    "\n",
    "    val_dataset = TransformDataset(torch.utils.data.Subset(combined_dataset, val_indices), transform=transforms.Compose([\n",
    "        transforms.Resize((224, 224)),\n",
    "        transforms.ToTensor(),\n",
    "        transforms.Normalize([0.485, 0.456, 0.406], [0.229, 0.224, 0.225])\n",
    "    ]))\n",
    "\n",
    "    test_dataset = TransformDataset(torch.utils.data.Subset(combined_dataset, test_indices), transform=transforms.Compose([\n",
    "        transforms.Resize((224, 224)),\n",
    "        transforms.ToTensor(),\n",
    "        transforms.Normalize([0.485, 0.456, 0.406], [0.229, 0.224, 0.225])\n",
    "    ]))\n",
    "\n",
    "\n",
    "    for subset, split in zip([train_dataset, val_dataset, test_dataset], ['train', 'val', 'test']):\n",
    "        for index_in_subset, (image, label) in enumerate(subset):\n",
    "            idx = subset.dataset.indices[index_in_subset]  \n",
    "\n",
    "            for start, end, ds in dataset_offsets:\n",
    "                if start <= idx < end:\n",
    "                    class_name = ds.classes[label]\n",
    "                    plant_name = class_name.split('_')[0]\n",
    "                    plant_image_counts[plant_name][split] += 1\n",
    "                    break\n",
    "\n",
    "    return DataLoader(train_dataset, batch_size=32, shuffle=True), \\\n",
    "           DataLoader(val_dataset, batch_size=32, shuffle=True), \\\n",
    "           DataLoader(test_dataset, batch_size=32, shuffle=True), \\\n",
    "           list(set(class_names)), \\\n",
    "           dict(plant_image_counts)"
   ]
  },
  {
   "cell_type": "code",
   "execution_count": 30,
   "metadata": {},
   "outputs": [],
   "source": [
    "def train_model(model, train_loader, val_loader, criterion, optimizer, scheduler, epochs):\n",
    "    train_loss_history = []\n",
    "    train_acc_history = []\n",
    "    val_loss_history = []\n",
    "    val_acc_history = []\n",
    "\n",
    "    for epoch in range(epochs):\n",
    "        start_time = time.time()\n",
    "        model.train()\n",
    "        running_loss = 0.0\n",
    "        correct = 0\n",
    "        total = 0\n",
    "\n",
    "\n",
    "        for images, labels in train_loader:\n",
    "            images, labels = images.to(device), labels.to(device)\n",
    "\n",
    "            optimizer.zero_grad()\n",
    "            outputs = model(images)\n",
    "            loss = criterion(outputs, labels)\n",
    "            loss.backward()\n",
    "            optimizer.step()\n",
    "\n",
    "            running_loss += loss.item()\n",
    "            _, predicted = outputs.max(1)\n",
    "            total += labels.size(0)\n",
    "            correct += predicted.eq(labels).sum().item()\n",
    "\n",
    "        train_loss = running_loss / len(train_loader)\n",
    "        train_acc = (correct / total) * 100\n",
    "\n",
    "        val_loss = 0.0\n",
    "        val_correct = 0\n",
    "        val_total = 0\n",
    "        model.eval()\n",
    "        with torch.no_grad():\n",
    "            for images, labels in val_loader:\n",
    "                images, labels = images.to(device), labels.to(device)\n",
    "                outputs = model(images)\n",
    "                loss = criterion(outputs, labels)\n",
    "\n",
    "                val_loss += loss.item()\n",
    "                _, predicted = outputs.max(1)\n",
    "                val_total += labels.size(0)\n",
    "                val_correct += predicted.eq(labels).sum().item()\n",
    "\n",
    "        val_loss /= len(val_loader)\n",
    "        val_acc = (val_correct / val_total) * 100\n",
    "\n",
    "\n",
    "        scheduler.step(val_loss)\n",
    "\n",
    "\n",
    "        train_loss_history.append(train_loss)\n",
    "        train_acc_history.append(train_acc)\n",
    "        val_loss_history.append(val_loss)\n",
    "        val_acc_history.append(val_acc)\n",
    "\n",
    "        epoch_time = time.time() - start_time\n",
    "\n",
    "        print(f\"Epoch [{epoch+1}/{epochs}], Time: {epoch_time:.2f}s, Train Loss: {train_loss:.4f}, Train Acc: {train_acc:.4f}, Val Loss: {val_loss:.4f}, Val Acc: {val_acc:.4f}\")\n",
    "\n",
    "    return train_loss_history, train_acc_history, val_loss_history, val_acc_history"
   ]
  },
  {
   "cell_type": "code",
   "execution_count": 42,
   "metadata": {},
   "outputs": [],
   "source": [
    "def evaluate_model(model, test_loader, classes):\n",
    "    model.eval()\n",
    "    all_labels = []\n",
    "    all_predictions = []\n",
    "\n",
    "    with torch.no_grad():\n",
    "        for images, labels in test_loader:\n",
    "            images, labels = images.to(device), labels.to(device)\n",
    "            outputs = model(images)\n",
    "            _, predicted = outputs.max(1)\n",
    "\n",
    "            all_labels.extend(labels.cpu().numpy())\n",
    "            all_predictions.extend(predicted.cpu().numpy())\n",
    "\n",
    "\n",
    "    accuracy = np.mean(np.array(all_predictions) == np.array(all_labels)) * 100\n",
    "\n",
    "\n",
    "    precision = precision_score(all_labels, all_predictions, average='weighted')\n",
    "    recall = recall_score(all_labels, all_predictions, average='weighted')\n",
    "\n",
    "    print(f\"Test Accuracy: {accuracy:.2f}%\")\n",
    "    print(f\"Precision: {precision:.2f}\")\n",
    "    print(f\"Recall: {recall:.2f}\")"
   ]
  },
  {
   "cell_type": "code",
   "execution_count": 32,
   "metadata": {},
   "outputs": [],
   "source": [
    "\n",
    "dataset_dirs = ['/home/kkt/research/cropsight/Cotton', '/home/kkt/research/cropsight/Potato', '/home/kkt/research/cropsight/Wheat']\n",
    "model_type = 'custom_cnn' "
   ]
  },
  {
   "cell_type": "code",
   "execution_count": 33,
   "metadata": {},
   "outputs": [],
   "source": [
    "train_loader, val_loader, test_loader, classes, plant_image_counts = load_datasets(dataset_dirs)"
   ]
  },
  {
   "cell_type": "code",
   "execution_count": 34,
   "metadata": {},
   "outputs": [
    {
     "name": "stdout",
     "output_type": "stream",
     "text": [
      "Number of classes: 10\n",
      "Classes:\n",
      "- Cotton_bacterial_blight\n",
      "- Cotton_curl_virus\n",
      "- Wheat_Yellow_Rust\n",
      "- Cotton_fussarium_wilt\n",
      "- Potato_Late_Blight\n",
      "- Cotton_healthy\n",
      "- Wheat_Healthy\n",
      "- Potato_Healthy\n",
      "- Potato_Early_Blight\n",
      "- Wheat_Brown_Rust\n"
     ]
    }
   ],
   "source": [
    "print(f\"Number of classes: {len(classes)}\")\n",
    "print(\"Classes:\")\n",
    "for cls in classes:\n",
    "    print(f\"- {cls}\")\n"
   ]
  },
  {
   "cell_type": "code",
   "execution_count": 35,
   "metadata": {},
   "outputs": [
    {
     "name": "stdout",
     "output_type": "stream",
     "text": [
      "Cotton: Total=1710, Train=1195, Validation=257, Test=258\n",
      "Potato: Total=2152, Train=1506, Validation=323, Test=323\n",
      "Wheat: Total=2942, Train=2058, Validation=441, Test=443\n"
     ]
    }
   ],
   "source": [
    "for plant, counts in plant_image_counts.items():\n",
    "    print(f\"{plant}: Total={counts['total']}, Train={counts['train']}, Validation={counts['val']}, Test={counts['test']}\")"
   ]
  },
  {
   "cell_type": "code",
   "execution_count": 36,
   "metadata": {},
   "outputs": [],
   "source": [
    "model = get_model(model_type=model_type, class_names=classes).to(device)\n",
    "\n",
    "criterion = nn.CrossEntropyLoss()\n",
    "optimizer = optim.Adam(model.parameters(), lr=0.001)\n",
    "scheduler = lr_scheduler.ReduceLROnPlateau(optimizer, mode='min', patience=3)"
   ]
  },
  {
   "cell_type": "code",
   "execution_count": 37,
   "metadata": {},
   "outputs": [
    {
     "name": "stdout",
     "output_type": "stream",
     "text": [
      "Epoch [1/30], Time: 55.43s, Train Loss: 0.9322, Train Acc: 71.0653, Val Loss: 0.5784, Val Acc: 78.3546\n",
      "Epoch [2/30], Time: 55.49s, Train Loss: 0.5685, Train Acc: 80.0588, Val Loss: 0.4447, Val Acc: 84.6229\n",
      "Epoch [3/30], Time: 55.26s, Train Loss: 0.5063, Train Acc: 81.1515, Val Loss: 0.3462, Val Acc: 87.8550\n",
      "Epoch [4/30], Time: 55.34s, Train Loss: 0.4444, Train Acc: 84.0723, Val Loss: 0.2830, Val Acc: 89.4221\n",
      "Epoch [5/30], Time: 55.41s, Train Loss: 0.3774, Train Acc: 86.6569, Val Loss: 0.2457, Val Acc: 90.6954\n",
      "Epoch [6/30], Time: 55.36s, Train Loss: 0.3598, Train Acc: 87.4553, Val Loss: 0.2592, Val Acc: 90.3036\n",
      "Epoch [7/30], Time: 55.37s, Train Loss: 0.2951, Train Acc: 89.5566, Val Loss: 0.1806, Val Acc: 94.0255\n",
      "Epoch [8/30], Time: 55.39s, Train Loss: 0.2835, Train Acc: 89.7457, Val Loss: 0.2319, Val Acc: 91.5769\n",
      "Epoch [9/30], Time: 55.75s, Train Loss: 0.2656, Train Acc: 90.5652, Val Loss: 0.2045, Val Acc: 92.8501\n",
      "Epoch [10/30], Time: 55.40s, Train Loss: 0.2611, Train Acc: 90.2290, Val Loss: 0.1974, Val Acc: 93.1440\n",
      "Epoch [11/30], Time: 55.36s, Train Loss: 0.2351, Train Acc: 91.5949, Val Loss: 0.2420, Val Acc: 90.4016\n",
      "Epoch [12/30], Time: 55.45s, Train Loss: 0.1749, Train Acc: 94.2215, Val Loss: 0.0979, Val Acc: 97.4535\n",
      "Epoch [13/30], Time: 55.43s, Train Loss: 0.1538, Train Acc: 95.1040, Val Loss: 0.0934, Val Acc: 97.0617\n",
      "Epoch [14/30], Time: 55.62s, Train Loss: 0.1518, Train Acc: 95.2301, Val Loss: 0.0901, Val Acc: 97.5514\n",
      "Epoch [15/30], Time: 55.60s, Train Loss: 0.1449, Train Acc: 95.6083, Val Loss: 0.0862, Val Acc: 97.7473\n",
      "Epoch [16/30], Time: 55.52s, Train Loss: 0.1583, Train Acc: 94.5787, Val Loss: 0.0867, Val Acc: 97.1596\n",
      "Epoch [17/30], Time: 56.18s, Train Loss: 0.1328, Train Acc: 95.8395, Val Loss: 0.0808, Val Acc: 97.7473\n",
      "Epoch [18/30], Time: 56.56s, Train Loss: 0.1260, Train Acc: 95.8815, Val Loss: 0.0761, Val Acc: 97.3555\n",
      "Epoch [19/30], Time: 57.15s, Train Loss: 0.1253, Train Acc: 96.1967, Val Loss: 0.0813, Val Acc: 97.1596\n",
      "Epoch [20/30], Time: 56.11s, Train Loss: 0.1266, Train Acc: 96.1126, Val Loss: 0.0823, Val Acc: 97.3555\n",
      "Epoch [21/30], Time: 55.87s, Train Loss: 0.1257, Train Acc: 96.1126, Val Loss: 0.0768, Val Acc: 97.5514\n",
      "Epoch [22/30], Time: 56.60s, Train Loss: 0.1073, Train Acc: 97.0162, Val Loss: 0.0703, Val Acc: 97.9432\n",
      "Epoch [23/30], Time: 55.18s, Train Loss: 0.1130, Train Acc: 96.5119, Val Loss: 0.0704, Val Acc: 97.4535\n",
      "Epoch [24/30], Time: 55.56s, Train Loss: 0.1068, Train Acc: 96.8271, Val Loss: 0.0637, Val Acc: 98.4329\n",
      "Epoch [25/30], Time: 55.72s, Train Loss: 0.1152, Train Acc: 96.0916, Val Loss: 0.0628, Val Acc: 98.0411\n",
      "Epoch [26/30], Time: 56.27s, Train Loss: 0.1037, Train Acc: 96.8901, Val Loss: 0.0669, Val Acc: 97.8452\n",
      "Epoch [27/30], Time: 56.75s, Train Loss: 0.0986, Train Acc: 96.9321, Val Loss: 0.0672, Val Acc: 97.7473\n",
      "Epoch [28/30], Time: 56.88s, Train Loss: 0.1034, Train Acc: 96.8481, Val Loss: 0.0627, Val Acc: 97.9432\n",
      "Epoch [29/30], Time: 56.63s, Train Loss: 0.0917, Train Acc: 97.1633, Val Loss: 0.0735, Val Acc: 97.4535\n",
      "Epoch [30/30], Time: 58.54s, Train Loss: 0.1055, Train Acc: 96.7220, Val Loss: 0.0655, Val Acc: 97.6494\n"
     ]
    }
   ],
   "source": [
    "train_loss_hist, train_acc_hist, val_loss_hist, val_acc_hist = train_model(\n",
    "        model, train_loader, val_loader, criterion, optimizer, scheduler, EPOCHS\n",
    ")"
   ]
  },
  {
   "cell_type": "code",
   "execution_count": 38,
   "metadata": {},
   "outputs": [
    {
     "data": {
      "image/png": "[encoded data removed]",
      "text/plain": [
       "<Figure size 640x480 with 1 Axes>"
      ]
     },
     "metadata": {},
     "output_type": "display_data"
    },
    {
     "data": {
      "image/png": "[encoded data removed]",
      "text/plain": [
       "<Figure size 640x480 with 1 Axes>"
      ]
     },
     "metadata": {},
     "output_type": "display_data"
    }
   ],
   "source": [
    "plt.plot(train_loss_hist, label='Train Loss')\n",
    "plt.plot(val_loss_hist, label='Validation Loss')\n",
    "plt.xlabel('Epochs')\n",
    "plt.ylabel('Loss')\n",
    "plt.legend()\n",
    "plt.show()\n",
    "\n",
    "plt.plot(train_acc_hist, label='Train Accuracy')\n",
    "plt.plot(val_acc_hist, label='Validation Accuracy')\n",
    "plt.xlabel('Epochs')\n",
    "plt.ylabel('Accuracy')\n",
    "plt.legend()\n",
    "plt.show()"
   ]
  },
  {
   "cell_type": "code",
   "execution_count": 43,
   "metadata": {},
   "outputs": [
    {
     "name": "stdout",
     "output_type": "stream",
     "text": [
      "Test Accuracy: 97.85%\n",
      "Precision: 0.98\n",
      "Recall: 0.98\n"
     ]
    }
   ],
   "source": [
    "evaluate_model(model, test_loader, classes)"
   ]
  },
  {
   "cell_type": "code",
   "execution_count": 40,
   "metadata": {},
   "outputs": [],
   "source": [
    "torch.save(model, 'cropsight_cnn_model_full.pth')\n",
    "torch.save(model.state_dict(), 'cropsight_cnn_model_state_dict.pth')"
   ]
  },
  {
   "cell_type": "code",
   "execution_count": null,
   "metadata": {},
   "outputs": [],
   "source": []
  }
 ],
 "metadata": {
  "kernelspec": {
   "display_name": "cropsight",
   "language": "python",
   "name": "python3"
  },
  "language_info": {
   "codemirror_mode": {
    "name": "ipython",
    "version": 3
   },
   "file_extension": ".py",
   "mimetype": "text/x-python",
   "name": "python",
   "nbconvert_exporter": "python",
   "pygments_lexer": "ipython3",
   "version": "3.10.16"
  }
 },
 "nbformat": 4,
 "nbformat_minor": 2
}
